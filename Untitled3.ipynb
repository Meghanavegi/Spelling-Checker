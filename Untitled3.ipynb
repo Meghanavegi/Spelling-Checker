{
 "cells": [
  {
   "cell_type": "code",
   "execution_count": 1,
   "id": "2af8e8cf",
   "metadata": {},
   "outputs": [
    {
     "name": "stdout",
     "output_type": "stream",
     "text": [
      "Collecting textblob\n",
      "  Downloading textblob-0.18.0.post0-py3-none-any.whl (626 kB)\n",
      "     -------------------------------------- 626.3/626.3 kB 3.6 MB/s eta 0:00:00\n",
      "Collecting nltk>=3.8\n",
      "  Downloading nltk-3.8.1-py3-none-any.whl (1.5 MB)\n",
      "     ---------------------------------------- 1.5/1.5 MB 13.6 MB/s eta 0:00:00\n",
      "Requirement already satisfied: tqdm in c:\\users\\student\\.ms-ad\\lib\\site-packages (from nltk>=3.8->textblob) (4.64.1)\n",
      "Requirement already satisfied: joblib in c:\\users\\student\\.ms-ad\\lib\\site-packages (from nltk>=3.8->textblob) (1.1.0)\n",
      "Requirement already satisfied: regex>=2021.8.3 in c:\\users\\student\\.ms-ad\\lib\\site-packages (from nltk>=3.8->textblob) (2022.7.9)\n",
      "Requirement already satisfied: click in c:\\users\\student\\.ms-ad\\lib\\site-packages (from nltk>=3.8->textblob) (8.0.4)\n",
      "Requirement already satisfied: colorama in c:\\users\\student\\.ms-ad\\lib\\site-packages (from click->nltk>=3.8->textblob) (0.4.5)\n",
      "Installing collected packages: nltk, textblob\n",
      "  Attempting uninstall: nltk\n",
      "    Found existing installation: nltk 3.7\n",
      "    Uninstalling nltk-3.7:\n",
      "      Successfully uninstalled nltk-3.7\n",
      "Successfully installed nltk-3.8.1 textblob-0.18.0.post0\n",
      "Note: you may need to restart the kernel to use updated packages.\n"
     ]
    }
   ],
   "source": [
    "pip install textblob"
   ]
  },
  {
   "cell_type": "code",
   "execution_count": 1,
   "id": "43e60a58",
   "metadata": {},
   "outputs": [],
   "source": [
    "import tkinter\n",
    "from tkinter import *\n",
    "from textblob import TextBlob"
   ]
  },
  {
   "cell_type": "code",
   "execution_count": 2,
   "id": "b39e4e75",
   "metadata": {},
   "outputs": [],
   "source": [
    "root = Tk()\n",
    "root.title(\"Spelling Checker\")\n",
    "root.geometry(\"700x400\")\n",
    "root.config(background = '#dae6f6')"
   ]
  },
  {
   "cell_type": "code",
   "execution_count": 3,
   "id": "665c3e92",
   "metadata": {},
   "outputs": [],
   "source": [
    "def check_spelling():\n",
    "    word = enter_text.get()\n",
    "    a = TextBlob(word)\n",
    "    right = str(a.correct())\n",
    "    \n",
    "    cs =Label(root,text = \"Correct text is : \",font = (\"poppins\",20),bg =\"#dae6f6\",fg = \"#364971\")\n",
    "    cs.place(x = 100,y = 250)\n",
    "    spell.config(text = right)"
   ]
  },
  {
   "cell_type": "code",
   "execution_count": 4,
   "id": "387e8f97",
   "metadata": {},
   "outputs": [],
   "source": [
    "heading = Label(root,text = \"Spelling Checker\",font = (\"Trebuchet MS\",30,\"bold\"),bg = '#dae6f6',fg = '#364971')\n",
    "heading.pack(pady = (50,0))"
   ]
  },
  {
   "cell_type": "code",
   "execution_count": 5,
   "id": "15ba3554",
   "metadata": {},
   "outputs": [],
   "source": [
    "enter_text = Entry(root,justify = \"center\",width = 30,font = (\"poppins\",25),bg = \"white\",border = 2)\n",
    "enter_text.pack(pady = 10)\n",
    "enter_text.focus()\n"
   ]
  },
  {
   "cell_type": "code",
   "execution_count": 6,
   "id": "03d1ed92",
   "metadata": {},
   "outputs": [],
   "source": [
    "button = Button(root,text = \"check\",font = ('arial',20,\"bold\"),fg = \"white\",bg = \"red\",command = check_spelling)\n",
    "button.pack()"
   ]
  },
  {
   "cell_type": "code",
   "execution_count": 7,
   "id": "80913c9c",
   "metadata": {},
   "outputs": [],
   "source": [
    "spell = Label(root,font = (\"poppins\",20),bg = \"#dae6f6\",fg = \"#364971\")\n",
    "spell.place(x = 350,y = 250)"
   ]
  },
  {
   "cell_type": "code",
   "execution_count": 8,
   "id": "bb27c88a",
   "metadata": {},
   "outputs": [],
   "source": [
    "root.mainloop()"
   ]
  },
  {
   "cell_type": "code",
   "execution_count": null,
   "id": "4e2ff20a",
   "metadata": {},
   "outputs": [],
   "source": []
  }
 ],
 "metadata": {
  "kernelspec": {
   "display_name": "Python 3 (ipykernel)",
   "language": "python",
   "name": "python3"
  },
  "language_info": {
   "codemirror_mode": {
    "name": "ipython",
    "version": 3
   },
   "file_extension": ".py",
   "mimetype": "text/x-python",
   "name": "python",
   "nbconvert_exporter": "python",
   "pygments_lexer": "ipython3",
   "version": "3.9.13"
  }
 },
 "nbformat": 4,
 "nbformat_minor": 5
}
